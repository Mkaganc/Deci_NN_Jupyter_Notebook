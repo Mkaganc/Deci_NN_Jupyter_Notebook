{
  "nbformat": 4,
  "nbformat_minor": 0,
  "metadata": {
    "colab": {
      "name": "DesiNeuralNetwork.ipynb",
      "provenance": [],
      "collapsed_sections": []
    },
    "kernelspec": {
      "name": "python3",
      "display_name": "Python 3"
    },
    "language_info": {
      "name": "python"
    }
  },
  "cells": [
    {
      "cell_type": "markdown",
      "source": [
        "## Gerekli Kütüphaneleri İçe Aktaralım."
      ],
      "metadata": {
        "id": "1xoAa3ITiL5c"
      }
    },
    {
      "cell_type": "code",
      "source": [
        "print('IMPORTING ALL THE NECESSARY LIBRARIES...')\n",
        "from tensorflow.python import keras\n",
        "from keras.models import Sequential, model_from_json\n",
        "from keras.layers import Dense\n",
        "import tensorflow as tf\n",
        "import matplotlib.pyplot as plt\n",
        "import numpy as np\n",
        "import pandas as pd\n",
        "from tensorflow.keras.optimizers import RMSprop"
      ],
      "metadata": {
        "id": "SzgpL2JfiPcf",
        "colab": {
          "base_uri": "https://localhost:8080/"
        },
        "outputId": "09da9c95-b554-4f81-d9df-fd872cc02579"
      },
      "execution_count": null,
      "outputs": [
        {
          "output_type": "stream",
          "name": "stdout",
          "text": [
            "IMPORTING ALL THE NECESSARY LIBRARIES...\n"
          ]
        }
      ]
    },
    {
      "cell_type": "markdown",
      "source": [
        "## Eğitmek ve Test Etmek İçin Kullanacağımız Datamızı Yükleyelim.\n"
      ],
      "metadata": {
        "id": "OKyl0m5okFcv"
      }
    },
    {
      "cell_type": "code",
      "source": [
        "print('----------------------------------------------------------------')\n",
        "print('OPENING FILES FROM SYSTEM DATA...')\n",
        "file = open('/nn_weights.csv', 'r')\n",
        "df = pd.read_csv(file)\n"
      ],
      "metadata": {
        "id": "QhfThdck9XJ9",
        "colab": {
          "base_uri": "https://localhost:8080/"
        },
        "outputId": "7453e826-25b6-422f-cac8-53588050a899"
      },
      "execution_count": null,
      "outputs": [
        {
          "output_type": "stream",
          "name": "stdout",
          "text": [
            "----------------------------------------------------------------\n",
            "OPENING FILES FROM SYSTEM DATA...\n"
          ]
        }
      ]
    },
    {
      "cell_type": "markdown",
      "source": [
        "Datamıza küçük bir bakış atalım."
      ],
      "metadata": {
        "id": "BYKJt_pUTHRG"
      }
    },
    {
      "cell_type": "code",
      "source": [
        "df.head(50)"
      ],
      "metadata": {
        "id": "X9wEAT5V0lxR",
        "colab": {
          "base_uri": "https://localhost:8080/",
          "height": 1000
        },
        "outputId": "5e8686bc-d979-4154-88e4-fe1d2797c81e"
      },
      "execution_count": null,
      "outputs": [
        {
          "output_type": "execute_result",
          "data": {
            "text/plain": [
              "    Unnamed: 0  index  yurtici_deci  altinkaya_cikis_deci  calculated_deci  \\\n",
              "0            0      2           840                 834.0          938.400   \n",
              "1            1     20           143                 143.0           80.800   \n",
              "2            2     33           106                  92.0           17.300   \n",
              "3            3     35            94                 100.0           21.935   \n",
              "4            4     42            24                  24.0            2.592   \n",
              "5            5     49             1                   1.0            0.121   \n",
              "6            6     51            30                  30.0            0.188   \n",
              "7            7     54             7                   7.0            0.323   \n",
              "8            8     56             6                   6.0            0.183   \n",
              "9            9     58             4                   4.0            0.063   \n",
              "10          10     64            19                  19.0            4.250   \n",
              "11          11     65             2                   2.0            0.209   \n",
              "12          12     66             3                   3.0            0.900   \n",
              "13          13     67             1                   1.0            0.746   \n",
              "14          14     68             4                   4.0            0.090   \n",
              "15          15     69             1                   1.0            0.283   \n",
              "16          16     70             1                   1.0            0.580   \n",
              "17          17     73             1                   1.0            0.750   \n",
              "18          18     74             1                   1.0            0.750   \n",
              "19          19     75             1                   1.0            0.670   \n",
              "20          20     77             1                   1.0            0.412   \n",
              "21          21     82             6                   6.0            3.591   \n",
              "22          22     83             3                   3.0            2.041   \n",
              "23          23     92             3                   3.0            1.152   \n",
              "24          24     93             4                   4.0            0.077   \n",
              "25          25     94            14                  14.0            4.800   \n",
              "26          26     96             1                   1.0            0.436   \n",
              "27          27     97             1                   1.0            0.199   \n",
              "28          28     98             3                   3.0            2.270   \n",
              "29          29    100            14                  14.0           12.261   \n",
              "30          30    102            54                  54.0           31.832   \n",
              "31          31    105             2                   2.0            1.100   \n",
              "32          32    110            24                  20.0           15.704   \n",
              "33          33    111             2                   2.0            0.470   \n",
              "34          34    116             4                   4.0            0.759   \n",
              "35          35    117             2                   2.0            0.722   \n",
              "36          36    125             2                   2.0            0.312   \n",
              "37          37    127            72                  72.0           67.069   \n",
              "38          38    129             5                   5.0            0.391   \n",
              "39          39    131             1                   1.0            0.495   \n",
              "40          40    140           183                 183.0            9.405   \n",
              "41          41    141             2                   2.0            0.869   \n",
              "42          42    143           195                  95.0           54.172   \n",
              "43          43    144            20                  20.0            2.622   \n",
              "44          44    145            12                  12.0            0.741   \n",
              "45          45    147             2                   2.0            0.883   \n",
              "46          46    149            12                   6.0           11.066   \n",
              "47          47    150             1                   2.0            0.497   \n",
              "48          48    152             2                   2.0            0.024   \n",
              "49          49    154             2                   3.0            1.342   \n",
              "\n",
              "    total_weight_gr  total_volume_cm3  \n",
              "0           88325.0        281520.000  \n",
              "1           53750.0        242400.000  \n",
              "2           65000.0        112004.000  \n",
              "3           37076.0         65806.320  \n",
              "4            3000.0          7776.000  \n",
              "5             140.0           362.880  \n",
              "6             433.0           563.040  \n",
              "7             987.5           969.650  \n",
              "8             162.0           550.000  \n",
              "9             155.0           188.600  \n",
              "10           2570.0         12748.750  \n",
              "11            170.0           625.664  \n",
              "12            364.0          2700.000  \n",
              "13            507.5          2238.336  \n",
              "14            780.0          2700.000  \n",
              "15            794.0           848.640  \n",
              "16            400.0           173.728  \n",
              "17            214.0           224.250  \n",
              "18            214.0           224.250  \n",
              "19            505.0           201.960  \n",
              "20            256.0          1235.000  \n",
              "21           9450.0         10773.000  \n",
              "22           1000.0          6123.200  \n",
              "23            840.0          3456.000  \n",
              "24            160.0           232.200  \n",
              "25            984.0          1452.000  \n",
              "26            321.0          1307.250  \n",
              "27            218.0           598.000  \n",
              "28           1004.0          6810.300  \n",
              "29           6980.0         36784.000  \n",
              "30          15200.0         95497.000  \n",
              "31            684.0          3300.000  \n",
              "32           3680.0         47110.680  \n",
              "33            105.5           140.760  \n",
              "34            173.2           225.216  \n",
              "35            462.0          2165.625  \n",
              "36            220.0           937.440  \n",
              "37          32040.0        201208.352  \n",
              "38           2750.0          1171.800  \n",
              "39            390.0          1485.000  \n",
              "40           8065.0         28215.000  \n",
              "41            379.0          2605.680  \n",
              "42          29000.0        162516.200  \n",
              "43           1090.0          7866.000  \n",
              "44            495.0          2223.010  \n",
              "45            934.4          2649.600  \n",
              "46           5040.0          3001.990  \n",
              "47            520.0          1490.400  \n",
              "48            492.0           726.000  \n",
              "49           1100.0          4025.000  "
            ],
            "text/html": [
              "\n",
              "  <div id=\"df-aac79ea7-bd21-4a43-83c5-001035f17d40\">\n",
              "    <div class=\"colab-df-container\">\n",
              "      <div>\n",
              "<style scoped>\n",
              "    .dataframe tbody tr th:only-of-type {\n",
              "        vertical-align: middle;\n",
              "    }\n",
              "\n",
              "    .dataframe tbody tr th {\n",
              "        vertical-align: top;\n",
              "    }\n",
              "\n",
              "    .dataframe thead th {\n",
              "        text-align: right;\n",
              "    }\n",
              "</style>\n",
              "<table border=\"1\" class=\"dataframe\">\n",
              "  <thead>\n",
              "    <tr style=\"text-align: right;\">\n",
              "      <th></th>\n",
              "      <th>Unnamed: 0</th>\n",
              "      <th>index</th>\n",
              "      <th>yurtici_deci</th>\n",
              "      <th>altinkaya_cikis_deci</th>\n",
              "      <th>calculated_deci</th>\n",
              "      <th>total_weight_gr</th>\n",
              "      <th>total_volume_cm3</th>\n",
              "    </tr>\n",
              "  </thead>\n",
              "  <tbody>\n",
              "    <tr>\n",
              "      <th>0</th>\n",
              "      <td>0</td>\n",
              "      <td>2</td>\n",
              "      <td>840</td>\n",
              "      <td>834.0</td>\n",
              "      <td>938.400</td>\n",
              "      <td>88325.0</td>\n",
              "      <td>281520.000</td>\n",
              "    </tr>\n",
              "    <tr>\n",
              "      <th>1</th>\n",
              "      <td>1</td>\n",
              "      <td>20</td>\n",
              "      <td>143</td>\n",
              "      <td>143.0</td>\n",
              "      <td>80.800</td>\n",
              "      <td>53750.0</td>\n",
              "      <td>242400.000</td>\n",
              "    </tr>\n",
              "    <tr>\n",
              "      <th>2</th>\n",
              "      <td>2</td>\n",
              "      <td>33</td>\n",
              "      <td>106</td>\n",
              "      <td>92.0</td>\n",
              "      <td>17.300</td>\n",
              "      <td>65000.0</td>\n",
              "      <td>112004.000</td>\n",
              "    </tr>\n",
              "    <tr>\n",
              "      <th>3</th>\n",
              "      <td>3</td>\n",
              "      <td>35</td>\n",
              "      <td>94</td>\n",
              "      <td>100.0</td>\n",
              "      <td>21.935</td>\n",
              "      <td>37076.0</td>\n",
              "      <td>65806.320</td>\n",
              "    </tr>\n",
              "    <tr>\n",
              "      <th>4</th>\n",
              "      <td>4</td>\n",
              "      <td>42</td>\n",
              "      <td>24</td>\n",
              "      <td>24.0</td>\n",
              "      <td>2.592</td>\n",
              "      <td>3000.0</td>\n",
              "      <td>7776.000</td>\n",
              "    </tr>\n",
              "    <tr>\n",
              "      <th>5</th>\n",
              "      <td>5</td>\n",
              "      <td>49</td>\n",
              "      <td>1</td>\n",
              "      <td>1.0</td>\n",
              "      <td>0.121</td>\n",
              "      <td>140.0</td>\n",
              "      <td>362.880</td>\n",
              "    </tr>\n",
              "    <tr>\n",
              "      <th>6</th>\n",
              "      <td>6</td>\n",
              "      <td>51</td>\n",
              "      <td>30</td>\n",
              "      <td>30.0</td>\n",
              "      <td>0.188</td>\n",
              "      <td>433.0</td>\n",
              "      <td>563.040</td>\n",
              "    </tr>\n",
              "    <tr>\n",
              "      <th>7</th>\n",
              "      <td>7</td>\n",
              "      <td>54</td>\n",
              "      <td>7</td>\n",
              "      <td>7.0</td>\n",
              "      <td>0.323</td>\n",
              "      <td>987.5</td>\n",
              "      <td>969.650</td>\n",
              "    </tr>\n",
              "    <tr>\n",
              "      <th>8</th>\n",
              "      <td>8</td>\n",
              "      <td>56</td>\n",
              "      <td>6</td>\n",
              "      <td>6.0</td>\n",
              "      <td>0.183</td>\n",
              "      <td>162.0</td>\n",
              "      <td>550.000</td>\n",
              "    </tr>\n",
              "    <tr>\n",
              "      <th>9</th>\n",
              "      <td>9</td>\n",
              "      <td>58</td>\n",
              "      <td>4</td>\n",
              "      <td>4.0</td>\n",
              "      <td>0.063</td>\n",
              "      <td>155.0</td>\n",
              "      <td>188.600</td>\n",
              "    </tr>\n",
              "    <tr>\n",
              "      <th>10</th>\n",
              "      <td>10</td>\n",
              "      <td>64</td>\n",
              "      <td>19</td>\n",
              "      <td>19.0</td>\n",
              "      <td>4.250</td>\n",
              "      <td>2570.0</td>\n",
              "      <td>12748.750</td>\n",
              "    </tr>\n",
              "    <tr>\n",
              "      <th>11</th>\n",
              "      <td>11</td>\n",
              "      <td>65</td>\n",
              "      <td>2</td>\n",
              "      <td>2.0</td>\n",
              "      <td>0.209</td>\n",
              "      <td>170.0</td>\n",
              "      <td>625.664</td>\n",
              "    </tr>\n",
              "    <tr>\n",
              "      <th>12</th>\n",
              "      <td>12</td>\n",
              "      <td>66</td>\n",
              "      <td>3</td>\n",
              "      <td>3.0</td>\n",
              "      <td>0.900</td>\n",
              "      <td>364.0</td>\n",
              "      <td>2700.000</td>\n",
              "    </tr>\n",
              "    <tr>\n",
              "      <th>13</th>\n",
              "      <td>13</td>\n",
              "      <td>67</td>\n",
              "      <td>1</td>\n",
              "      <td>1.0</td>\n",
              "      <td>0.746</td>\n",
              "      <td>507.5</td>\n",
              "      <td>2238.336</td>\n",
              "    </tr>\n",
              "    <tr>\n",
              "      <th>14</th>\n",
              "      <td>14</td>\n",
              "      <td>68</td>\n",
              "      <td>4</td>\n",
              "      <td>4.0</td>\n",
              "      <td>0.090</td>\n",
              "      <td>780.0</td>\n",
              "      <td>2700.000</td>\n",
              "    </tr>\n",
              "    <tr>\n",
              "      <th>15</th>\n",
              "      <td>15</td>\n",
              "      <td>69</td>\n",
              "      <td>1</td>\n",
              "      <td>1.0</td>\n",
              "      <td>0.283</td>\n",
              "      <td>794.0</td>\n",
              "      <td>848.640</td>\n",
              "    </tr>\n",
              "    <tr>\n",
              "      <th>16</th>\n",
              "      <td>16</td>\n",
              "      <td>70</td>\n",
              "      <td>1</td>\n",
              "      <td>1.0</td>\n",
              "      <td>0.580</td>\n",
              "      <td>400.0</td>\n",
              "      <td>173.728</td>\n",
              "    </tr>\n",
              "    <tr>\n",
              "      <th>17</th>\n",
              "      <td>17</td>\n",
              "      <td>73</td>\n",
              "      <td>1</td>\n",
              "      <td>1.0</td>\n",
              "      <td>0.750</td>\n",
              "      <td>214.0</td>\n",
              "      <td>224.250</td>\n",
              "    </tr>\n",
              "    <tr>\n",
              "      <th>18</th>\n",
              "      <td>18</td>\n",
              "      <td>74</td>\n",
              "      <td>1</td>\n",
              "      <td>1.0</td>\n",
              "      <td>0.750</td>\n",
              "      <td>214.0</td>\n",
              "      <td>224.250</td>\n",
              "    </tr>\n",
              "    <tr>\n",
              "      <th>19</th>\n",
              "      <td>19</td>\n",
              "      <td>75</td>\n",
              "      <td>1</td>\n",
              "      <td>1.0</td>\n",
              "      <td>0.670</td>\n",
              "      <td>505.0</td>\n",
              "      <td>201.960</td>\n",
              "    </tr>\n",
              "    <tr>\n",
              "      <th>20</th>\n",
              "      <td>20</td>\n",
              "      <td>77</td>\n",
              "      <td>1</td>\n",
              "      <td>1.0</td>\n",
              "      <td>0.412</td>\n",
              "      <td>256.0</td>\n",
              "      <td>1235.000</td>\n",
              "    </tr>\n",
              "    <tr>\n",
              "      <th>21</th>\n",
              "      <td>21</td>\n",
              "      <td>82</td>\n",
              "      <td>6</td>\n",
              "      <td>6.0</td>\n",
              "      <td>3.591</td>\n",
              "      <td>9450.0</td>\n",
              "      <td>10773.000</td>\n",
              "    </tr>\n",
              "    <tr>\n",
              "      <th>22</th>\n",
              "      <td>22</td>\n",
              "      <td>83</td>\n",
              "      <td>3</td>\n",
              "      <td>3.0</td>\n",
              "      <td>2.041</td>\n",
              "      <td>1000.0</td>\n",
              "      <td>6123.200</td>\n",
              "    </tr>\n",
              "    <tr>\n",
              "      <th>23</th>\n",
              "      <td>23</td>\n",
              "      <td>92</td>\n",
              "      <td>3</td>\n",
              "      <td>3.0</td>\n",
              "      <td>1.152</td>\n",
              "      <td>840.0</td>\n",
              "      <td>3456.000</td>\n",
              "    </tr>\n",
              "    <tr>\n",
              "      <th>24</th>\n",
              "      <td>24</td>\n",
              "      <td>93</td>\n",
              "      <td>4</td>\n",
              "      <td>4.0</td>\n",
              "      <td>0.077</td>\n",
              "      <td>160.0</td>\n",
              "      <td>232.200</td>\n",
              "    </tr>\n",
              "    <tr>\n",
              "      <th>25</th>\n",
              "      <td>25</td>\n",
              "      <td>94</td>\n",
              "      <td>14</td>\n",
              "      <td>14.0</td>\n",
              "      <td>4.800</td>\n",
              "      <td>984.0</td>\n",
              "      <td>1452.000</td>\n",
              "    </tr>\n",
              "    <tr>\n",
              "      <th>26</th>\n",
              "      <td>26</td>\n",
              "      <td>96</td>\n",
              "      <td>1</td>\n",
              "      <td>1.0</td>\n",
              "      <td>0.436</td>\n",
              "      <td>321.0</td>\n",
              "      <td>1307.250</td>\n",
              "    </tr>\n",
              "    <tr>\n",
              "      <th>27</th>\n",
              "      <td>27</td>\n",
              "      <td>97</td>\n",
              "      <td>1</td>\n",
              "      <td>1.0</td>\n",
              "      <td>0.199</td>\n",
              "      <td>218.0</td>\n",
              "      <td>598.000</td>\n",
              "    </tr>\n",
              "    <tr>\n",
              "      <th>28</th>\n",
              "      <td>28</td>\n",
              "      <td>98</td>\n",
              "      <td>3</td>\n",
              "      <td>3.0</td>\n",
              "      <td>2.270</td>\n",
              "      <td>1004.0</td>\n",
              "      <td>6810.300</td>\n",
              "    </tr>\n",
              "    <tr>\n",
              "      <th>29</th>\n",
              "      <td>29</td>\n",
              "      <td>100</td>\n",
              "      <td>14</td>\n",
              "      <td>14.0</td>\n",
              "      <td>12.261</td>\n",
              "      <td>6980.0</td>\n",
              "      <td>36784.000</td>\n",
              "    </tr>\n",
              "    <tr>\n",
              "      <th>30</th>\n",
              "      <td>30</td>\n",
              "      <td>102</td>\n",
              "      <td>54</td>\n",
              "      <td>54.0</td>\n",
              "      <td>31.832</td>\n",
              "      <td>15200.0</td>\n",
              "      <td>95497.000</td>\n",
              "    </tr>\n",
              "    <tr>\n",
              "      <th>31</th>\n",
              "      <td>31</td>\n",
              "      <td>105</td>\n",
              "      <td>2</td>\n",
              "      <td>2.0</td>\n",
              "      <td>1.100</td>\n",
              "      <td>684.0</td>\n",
              "      <td>3300.000</td>\n",
              "    </tr>\n",
              "    <tr>\n",
              "      <th>32</th>\n",
              "      <td>32</td>\n",
              "      <td>110</td>\n",
              "      <td>24</td>\n",
              "      <td>20.0</td>\n",
              "      <td>15.704</td>\n",
              "      <td>3680.0</td>\n",
              "      <td>47110.680</td>\n",
              "    </tr>\n",
              "    <tr>\n",
              "      <th>33</th>\n",
              "      <td>33</td>\n",
              "      <td>111</td>\n",
              "      <td>2</td>\n",
              "      <td>2.0</td>\n",
              "      <td>0.470</td>\n",
              "      <td>105.5</td>\n",
              "      <td>140.760</td>\n",
              "    </tr>\n",
              "    <tr>\n",
              "      <th>34</th>\n",
              "      <td>34</td>\n",
              "      <td>116</td>\n",
              "      <td>4</td>\n",
              "      <td>4.0</td>\n",
              "      <td>0.759</td>\n",
              "      <td>173.2</td>\n",
              "      <td>225.216</td>\n",
              "    </tr>\n",
              "    <tr>\n",
              "      <th>35</th>\n",
              "      <td>35</td>\n",
              "      <td>117</td>\n",
              "      <td>2</td>\n",
              "      <td>2.0</td>\n",
              "      <td>0.722</td>\n",
              "      <td>462.0</td>\n",
              "      <td>2165.625</td>\n",
              "    </tr>\n",
              "    <tr>\n",
              "      <th>36</th>\n",
              "      <td>36</td>\n",
              "      <td>125</td>\n",
              "      <td>2</td>\n",
              "      <td>2.0</td>\n",
              "      <td>0.312</td>\n",
              "      <td>220.0</td>\n",
              "      <td>937.440</td>\n",
              "    </tr>\n",
              "    <tr>\n",
              "      <th>37</th>\n",
              "      <td>37</td>\n",
              "      <td>127</td>\n",
              "      <td>72</td>\n",
              "      <td>72.0</td>\n",
              "      <td>67.069</td>\n",
              "      <td>32040.0</td>\n",
              "      <td>201208.352</td>\n",
              "    </tr>\n",
              "    <tr>\n",
              "      <th>38</th>\n",
              "      <td>38</td>\n",
              "      <td>129</td>\n",
              "      <td>5</td>\n",
              "      <td>5.0</td>\n",
              "      <td>0.391</td>\n",
              "      <td>2750.0</td>\n",
              "      <td>1171.800</td>\n",
              "    </tr>\n",
              "    <tr>\n",
              "      <th>39</th>\n",
              "      <td>39</td>\n",
              "      <td>131</td>\n",
              "      <td>1</td>\n",
              "      <td>1.0</td>\n",
              "      <td>0.495</td>\n",
              "      <td>390.0</td>\n",
              "      <td>1485.000</td>\n",
              "    </tr>\n",
              "    <tr>\n",
              "      <th>40</th>\n",
              "      <td>40</td>\n",
              "      <td>140</td>\n",
              "      <td>183</td>\n",
              "      <td>183.0</td>\n",
              "      <td>9.405</td>\n",
              "      <td>8065.0</td>\n",
              "      <td>28215.000</td>\n",
              "    </tr>\n",
              "    <tr>\n",
              "      <th>41</th>\n",
              "      <td>41</td>\n",
              "      <td>141</td>\n",
              "      <td>2</td>\n",
              "      <td>2.0</td>\n",
              "      <td>0.869</td>\n",
              "      <td>379.0</td>\n",
              "      <td>2605.680</td>\n",
              "    </tr>\n",
              "    <tr>\n",
              "      <th>42</th>\n",
              "      <td>42</td>\n",
              "      <td>143</td>\n",
              "      <td>195</td>\n",
              "      <td>95.0</td>\n",
              "      <td>54.172</td>\n",
              "      <td>29000.0</td>\n",
              "      <td>162516.200</td>\n",
              "    </tr>\n",
              "    <tr>\n",
              "      <th>43</th>\n",
              "      <td>43</td>\n",
              "      <td>144</td>\n",
              "      <td>20</td>\n",
              "      <td>20.0</td>\n",
              "      <td>2.622</td>\n",
              "      <td>1090.0</td>\n",
              "      <td>7866.000</td>\n",
              "    </tr>\n",
              "    <tr>\n",
              "      <th>44</th>\n",
              "      <td>44</td>\n",
              "      <td>145</td>\n",
              "      <td>12</td>\n",
              "      <td>12.0</td>\n",
              "      <td>0.741</td>\n",
              "      <td>495.0</td>\n",
              "      <td>2223.010</td>\n",
              "    </tr>\n",
              "    <tr>\n",
              "      <th>45</th>\n",
              "      <td>45</td>\n",
              "      <td>147</td>\n",
              "      <td>2</td>\n",
              "      <td>2.0</td>\n",
              "      <td>0.883</td>\n",
              "      <td>934.4</td>\n",
              "      <td>2649.600</td>\n",
              "    </tr>\n",
              "    <tr>\n",
              "      <th>46</th>\n",
              "      <td>46</td>\n",
              "      <td>149</td>\n",
              "      <td>12</td>\n",
              "      <td>6.0</td>\n",
              "      <td>11.066</td>\n",
              "      <td>5040.0</td>\n",
              "      <td>3001.990</td>\n",
              "    </tr>\n",
              "    <tr>\n",
              "      <th>47</th>\n",
              "      <td>47</td>\n",
              "      <td>150</td>\n",
              "      <td>1</td>\n",
              "      <td>2.0</td>\n",
              "      <td>0.497</td>\n",
              "      <td>520.0</td>\n",
              "      <td>1490.400</td>\n",
              "    </tr>\n",
              "    <tr>\n",
              "      <th>48</th>\n",
              "      <td>48</td>\n",
              "      <td>152</td>\n",
              "      <td>2</td>\n",
              "      <td>2.0</td>\n",
              "      <td>0.024</td>\n",
              "      <td>492.0</td>\n",
              "      <td>726.000</td>\n",
              "    </tr>\n",
              "    <tr>\n",
              "      <th>49</th>\n",
              "      <td>49</td>\n",
              "      <td>154</td>\n",
              "      <td>2</td>\n",
              "      <td>3.0</td>\n",
              "      <td>1.342</td>\n",
              "      <td>1100.0</td>\n",
              "      <td>4025.000</td>\n",
              "    </tr>\n",
              "  </tbody>\n",
              "</table>\n",
              "</div>\n",
              "      <button class=\"colab-df-convert\" onclick=\"convertToInteractive('df-aac79ea7-bd21-4a43-83c5-001035f17d40')\"\n",
              "              title=\"Convert this dataframe to an interactive table.\"\n",
              "              style=\"display:none;\">\n",
              "        \n",
              "  <svg xmlns=\"http://www.w3.org/2000/svg\" height=\"24px\"viewBox=\"0 0 24 24\"\n",
              "       width=\"24px\">\n",
              "    <path d=\"M0 0h24v24H0V0z\" fill=\"none\"/>\n",
              "    <path d=\"M18.56 5.44l.94 2.06.94-2.06 2.06-.94-2.06-.94-.94-2.06-.94 2.06-2.06.94zm-11 1L8.5 8.5l.94-2.06 2.06-.94-2.06-.94L8.5 2.5l-.94 2.06-2.06.94zm10 10l.94 2.06.94-2.06 2.06-.94-2.06-.94-.94-2.06-.94 2.06-2.06.94z\"/><path d=\"M17.41 7.96l-1.37-1.37c-.4-.4-.92-.59-1.43-.59-.52 0-1.04.2-1.43.59L10.3 9.45l-7.72 7.72c-.78.78-.78 2.05 0 2.83L4 21.41c.39.39.9.59 1.41.59.51 0 1.02-.2 1.41-.59l7.78-7.78 2.81-2.81c.8-.78.8-2.07 0-2.86zM5.41 20L4 18.59l7.72-7.72 1.47 1.35L5.41 20z\"/>\n",
              "  </svg>\n",
              "      </button>\n",
              "      \n",
              "  <style>\n",
              "    .colab-df-container {\n",
              "      display:flex;\n",
              "      flex-wrap:wrap;\n",
              "      gap: 12px;\n",
              "    }\n",
              "\n",
              "    .colab-df-convert {\n",
              "      background-color: #E8F0FE;\n",
              "      border: none;\n",
              "      border-radius: 50%;\n",
              "      cursor: pointer;\n",
              "      display: none;\n",
              "      fill: #1967D2;\n",
              "      height: 32px;\n",
              "      padding: 0 0 0 0;\n",
              "      width: 32px;\n",
              "    }\n",
              "\n",
              "    .colab-df-convert:hover {\n",
              "      background-color: #E2EBFA;\n",
              "      box-shadow: 0px 1px 2px rgba(60, 64, 67, 0.3), 0px 1px 3px 1px rgba(60, 64, 67, 0.15);\n",
              "      fill: #174EA6;\n",
              "    }\n",
              "\n",
              "    [theme=dark] .colab-df-convert {\n",
              "      background-color: #3B4455;\n",
              "      fill: #D2E3FC;\n",
              "    }\n",
              "\n",
              "    [theme=dark] .colab-df-convert:hover {\n",
              "      background-color: #434B5C;\n",
              "      box-shadow: 0px 1px 3px 1px rgba(0, 0, 0, 0.15);\n",
              "      filter: drop-shadow(0px 1px 2px rgba(0, 0, 0, 0.3));\n",
              "      fill: #FFFFFF;\n",
              "    }\n",
              "  </style>\n",
              "\n",
              "      <script>\n",
              "        const buttonEl =\n",
              "          document.querySelector('#df-aac79ea7-bd21-4a43-83c5-001035f17d40 button.colab-df-convert');\n",
              "        buttonEl.style.display =\n",
              "          google.colab.kernel.accessAllowed ? 'block' : 'none';\n",
              "\n",
              "        async function convertToInteractive(key) {\n",
              "          const element = document.querySelector('#df-aac79ea7-bd21-4a43-83c5-001035f17d40');\n",
              "          const dataTable =\n",
              "            await google.colab.kernel.invokeFunction('convertToInteractive',\n",
              "                                                     [key], {});\n",
              "          if (!dataTable) return;\n",
              "\n",
              "          const docLinkHtml = 'Like what you see? Visit the ' +\n",
              "            '<a target=\"_blank\" href=https://colab.research.google.com/notebooks/data_table.ipynb>data table notebook</a>'\n",
              "            + ' to learn more about interactive tables.';\n",
              "          element.innerHTML = '';\n",
              "          dataTable['output_type'] = 'display_data';\n",
              "          await google.colab.output.renderOutput(dataTable, element);\n",
              "          const docLink = document.createElement('div');\n",
              "          docLink.innerHTML = docLinkHtml;\n",
              "          element.appendChild(docLink);\n",
              "        }\n",
              "      </script>\n",
              "    </div>\n",
              "  </div>\n",
              "  "
            ]
          },
          "metadata": {},
          "execution_count": 4
        }
      ]
    },
    {
      "cell_type": "markdown",
      "source": [
        ""
      ],
      "metadata": {
        "id": "t-fdHNeDTvL1"
      }
    },
    {
      "cell_type": "markdown",
      "source": [
        "## Veri düzenleme"
      ],
      "metadata": {
        "id": "nGG6fMCEFM5A"
      }
    },
    {
      "cell_type": "markdown",
      "source": [
        "Daha iyi bi analiz için verimizi görselleştirelim."
      ],
      "metadata": {
        "id": "hZ4kby_7WO0P"
      }
    },
    {
      "cell_type": "markdown",
      "source": [
        "Verimizdeki aykırı değerleri ne kadar temizlersek o kadar iyi sonuç çıkar. Unutmayın sinir ağları karmaşık yapılardır ve siz ona istenilen sonuca nasıl gideceğini söylemezsiniz. Bağlantı kuracağı datayı(Train Data) ve sonuç olarak ulaşmak istediği yeri(Test Data) söylersiniz ve istatistiksel hata azaltma algoritmalarıyla gerekli tahmin için en iyi fonksiyonu kendisi oluşturur."
      ],
      "metadata": {
        "id": "mh_rXvpzZvgq"
      }
    },
    {
      "cell_type": "markdown",
      "source": [
        "Bi bağlamda kendi hipotezini kendi başına itere ederek(tekrarlayarak) değiştirir gibi düşünebilirsiniz. "
      ],
      "metadata": {
        "id": "hHWaj6-7aPJY"
      }
    },
    {
      "cell_type": "markdown",
      "source": [
        "O yüzden bir modelin başarısını belirleyen en önemli etmen iyi düzenlenmiş ve hatalarından ayıklanmış data vermektir."
      ],
      "metadata": {
        "id": "NB2UxmojabgB"
      }
    },
    {
      "cell_type": "code",
      "source": [
        "plt.scatter(df['altinkaya_cikis_deci'], df['yurtici_deci'],\n",
        "            color='blue')\n",
        "plt.show()"
      ],
      "metadata": {
        "id": "qAuwq49mFR4F",
        "colab": {
          "base_uri": "https://localhost:8080/",
          "height": 265
        },
        "outputId": "1593bc94-e3f3-46c9-99e0-3a795998913c"
      },
      "execution_count": null,
      "outputs": [
        {
          "output_type": "display_data",
          "data": {
            "text/plain": [
              "<Figure size 432x288 with 1 Axes>"
            ],
            "image/png": "[encoded data removed]"
          },
          "metadata": {
            "needs_background": "light"
          }
        }
      ]
    },
    {
      "cell_type": "markdown",
      "source": [
        "Yeni veri çerçeveleri oluşturalım. Gerekli manipülasyonların yapılması için raw,\n",
        "modele sunmak için test ve train.\n"
      ],
      "metadata": {
        "id": "MbLnx_PMUXJT"
      }
    },
    {
      "cell_type": "code",
      "source": [
        "print('----------------------------------------------------------------')\n",
        "print('CREATING NEW DATA FRAMES FOR TRAINING AND TESTING THE MODEL...')\n",
        "raw_train_data = pd.DataFrame()  # Creating a new dataframe\n",
        "test_data = pd.DataFrame()\n",
        "train_data = pd.DataFrame()\n"
      ],
      "metadata": {
        "id": "E0NqzV8p-8q1",
        "colab": {
          "base_uri": "https://localhost:8080/",
          "height": 592
        },
        "outputId": "a97887e2-e8ec-466d-fd29-624fe7aa0a7b"
      },
      "execution_count": null,
      "outputs": [
        {
          "output_type": "stream",
          "name": "stdout",
          "text": [
            "----------------------------------------------------------------\n",
            "CREATING NEW DATA FRAMES FOR TRAINING AND TESTING THE MODEL...\n",
            "----------------------------------------------------------------\n",
            "PROCESSING NECESSARY MODIFICATIONS ON DATA...\n"
          ]
        },
        {
          "output_type": "execute_result",
          "data": {
            "text/plain": [
              "    calculated_deci  total_weight_gr  total_volume_cm3\n",
              "36            0.312            220.0           937.440\n",
              "37           67.069          32040.0        201208.352\n",
              "38            0.391           2750.0          1171.800\n",
              "39            0.495            390.0          1485.000\n",
              "40            9.405           8065.0         28215.000\n",
              "41            0.869            379.0          2605.680\n",
              "42           54.172          29000.0        162516.200\n",
              "43            2.622           1090.0          7866.000\n",
              "44            0.741            495.0          2223.010\n",
              "45            0.883            934.4          2649.600\n",
              "46           11.066           5040.0          3001.990\n",
              "47            0.497            520.0          1490.400\n",
              "48            0.024            492.0           726.000\n",
              "49            1.342           1100.0          4025.000\n",
              "50            0.797            556.0          2390.528"
            ],
            "text/html": [
              "\n",
              "  <div id=\"df-41dad399-625f-498c-b63c-fbe96bff34a1\">\n",
              "    <div class=\"colab-df-container\">\n",
              "      <div>\n",
              "<style scoped>\n",
              "    .dataframe tbody tr th:only-of-type {\n",
              "        vertical-align: middle;\n",
              "    }\n",
              "\n",
              "    .dataframe tbody tr th {\n",
              "        vertical-align: top;\n",
              "    }\n",
              "\n",
              "    .dataframe thead th {\n",
              "        text-align: right;\n",
              "    }\n",
              "</style>\n",
              "<table border=\"1\" class=\"dataframe\">\n",
              "  <thead>\n",
              "    <tr style=\"text-align: right;\">\n",
              "      <th></th>\n",
              "      <th>calculated_deci</th>\n",
              "      <th>total_weight_gr</th>\n",
              "      <th>total_volume_cm3</th>\n",
              "    </tr>\n",
              "  </thead>\n",
              "  <tbody>\n",
              "    <tr>\n",
              "      <th>36</th>\n",
              "      <td>0.312</td>\n",
              "      <td>220.0</td>\n",
              "      <td>937.440</td>\n",
              "    </tr>\n",
              "    <tr>\n",
              "      <th>37</th>\n",
              "      <td>67.069</td>\n",
              "      <td>32040.0</td>\n",
              "      <td>201208.352</td>\n",
              "    </tr>\n",
              "    <tr>\n",
              "      <th>38</th>\n",
              "      <td>0.391</td>\n",
              "      <td>2750.0</td>\n",
              "      <td>1171.800</td>\n",
              "    </tr>\n",
              "    <tr>\n",
              "      <th>39</th>\n",
              "      <td>0.495</td>\n",
              "      <td>390.0</td>\n",
              "      <td>1485.000</td>\n",
              "    </tr>\n",
              "    <tr>\n",
              "      <th>40</th>\n",
              "      <td>9.405</td>\n",
              "      <td>8065.0</td>\n",
              "      <td>28215.000</td>\n",
              "    </tr>\n",
              "    <tr>\n",
              "      <th>41</th>\n",
              "      <td>0.869</td>\n",
              "      <td>379.0</td>\n",
              "      <td>2605.680</td>\n",
              "    </tr>\n",
              "    <tr>\n",
              "      <th>42</th>\n",
              "      <td>54.172</td>\n",
              "      <td>29000.0</td>\n",
              "      <td>162516.200</td>\n",
              "    </tr>\n",
              "    <tr>\n",
              "      <th>43</th>\n",
              "      <td>2.622</td>\n",
              "      <td>1090.0</td>\n",
              "      <td>7866.000</td>\n",
              "    </tr>\n",
              "    <tr>\n",
              "      <th>44</th>\n",
              "      <td>0.741</td>\n",
              "      <td>495.0</td>\n",
              "      <td>2223.010</td>\n",
              "    </tr>\n",
              "    <tr>\n",
              "      <th>45</th>\n",
              "      <td>0.883</td>\n",
              "      <td>934.4</td>\n",
              "      <td>2649.600</td>\n",
              "    </tr>\n",
              "    <tr>\n",
              "      <th>46</th>\n",
              "      <td>11.066</td>\n",
              "      <td>5040.0</td>\n",
              "      <td>3001.990</td>\n",
              "    </tr>\n",
              "    <tr>\n",
              "      <th>47</th>\n",
              "      <td>0.497</td>\n",
              "      <td>520.0</td>\n",
              "      <td>1490.400</td>\n",
              "    </tr>\n",
              "    <tr>\n",
              "      <th>48</th>\n",
              "      <td>0.024</td>\n",
              "      <td>492.0</td>\n",
              "      <td>726.000</td>\n",
              "    </tr>\n",
              "    <tr>\n",
              "      <th>49</th>\n",
              "      <td>1.342</td>\n",
              "      <td>1100.0</td>\n",
              "      <td>4025.000</td>\n",
              "    </tr>\n",
              "    <tr>\n",
              "      <th>50</th>\n",
              "      <td>0.797</td>\n",
              "      <td>556.0</td>\n",
              "      <td>2390.528</td>\n",
              "    </tr>\n",
              "  </tbody>\n",
              "</table>\n",
              "</div>\n",
              "      <button class=\"colab-df-convert\" onclick=\"convertToInteractive('df-41dad399-625f-498c-b63c-fbe96bff34a1')\"\n",
              "              title=\"Convert this dataframe to an interactive table.\"\n",
              "              style=\"display:none;\">\n",
              "        \n",
              "  <svg xmlns=\"http://www.w3.org/2000/svg\" height=\"24px\"viewBox=\"0 0 24 24\"\n",
              "       width=\"24px\">\n",
              "    <path d=\"M0 0h24v24H0V0z\" fill=\"none\"/>\n",
              "    <path d=\"M18.56 5.44l.94 2.06.94-2.06 2.06-.94-2.06-.94-.94-2.06-.94 2.06-2.06.94zm-11 1L8.5 8.5l.94-2.06 2.06-.94-2.06-.94L8.5 2.5l-.94 2.06-2.06.94zm10 10l.94 2.06.94-2.06 2.06-.94-2.06-.94-.94-2.06-.94 2.06-2.06.94z\"/><path d=\"M17.41 7.96l-1.37-1.37c-.4-.4-.92-.59-1.43-.59-.52 0-1.04.2-1.43.59L10.3 9.45l-7.72 7.72c-.78.78-.78 2.05 0 2.83L4 21.41c.39.39.9.59 1.41.59.51 0 1.02-.2 1.41-.59l7.78-7.78 2.81-2.81c.8-.78.8-2.07 0-2.86zM5.41 20L4 18.59l7.72-7.72 1.47 1.35L5.41 20z\"/>\n",
              "  </svg>\n",
              "      </button>\n",
              "      \n",
              "  <style>\n",
              "    .colab-df-container {\n",
              "      display:flex;\n",
              "      flex-wrap:wrap;\n",
              "      gap: 12px;\n",
              "    }\n",
              "\n",
              "    .colab-df-convert {\n",
              "      background-color: #E8F0FE;\n",
              "      border: none;\n",
              "      border-radius: 50%;\n",
              "      cursor: pointer;\n",
              "      display: none;\n",
              "      fill: #1967D2;\n",
              "      height: 32px;\n",
              "      padding: 0 0 0 0;\n",
              "      width: 32px;\n",
              "    }\n",
              "\n",
              "    .colab-df-convert:hover {\n",
              "      background-color: #E2EBFA;\n",
              "      box-shadow: 0px 1px 2px rgba(60, 64, 67, 0.3), 0px 1px 3px 1px rgba(60, 64, 67, 0.15);\n",
              "      fill: #174EA6;\n",
              "    }\n",
              "\n",
              "    [theme=dark] .colab-df-convert {\n",
              "      background-color: #3B4455;\n",
              "      fill: #D2E3FC;\n",
              "    }\n",
              "\n",
              "    [theme=dark] .colab-df-convert:hover {\n",
              "      background-color: #434B5C;\n",
              "      box-shadow: 0px 1px 3px 1px rgba(0, 0, 0, 0.15);\n",
              "      filter: drop-shadow(0px 1px 2px rgba(0, 0, 0, 0.3));\n",
              "      fill: #FFFFFF;\n",
              "    }\n",
              "  </style>\n",
              "\n",
              "      <script>\n",
              "        const buttonEl =\n",
              "          document.querySelector('#df-41dad399-625f-498c-b63c-fbe96bff34a1 button.colab-df-convert');\n",
              "        buttonEl.style.display =\n",
              "          google.colab.kernel.accessAllowed ? 'block' : 'none';\n",
              "\n",
              "        async function convertToInteractive(key) {\n",
              "          const element = document.querySelector('#df-41dad399-625f-498c-b63c-fbe96bff34a1');\n",
              "          const dataTable =\n",
              "            await google.colab.kernel.invokeFunction('convertToInteractive',\n",
              "                                                     [key], {});\n",
              "          if (!dataTable) return;\n",
              "\n",
              "          const docLinkHtml = 'Like what you see? Visit the ' +\n",
              "            '<a target=\"_blank\" href=https://colab.research.google.com/notebooks/data_table.ipynb>data table notebook</a>'\n",
              "            + ' to learn more about interactive tables.';\n",
              "          element.innerHTML = '';\n",
              "          dataTable['output_type'] = 'display_data';\n",
              "          await google.colab.output.renderOutput(dataTable, element);\n",
              "          const docLink = document.createElement('div');\n",
              "          docLink.innerHTML = docLinkHtml;\n",
              "          element.appendChild(docLink);\n",
              "        }\n",
              "      </script>\n",
              "    </div>\n",
              "  </div>\n",
              "  "
            ]
          },
          "metadata": {},
          "execution_count": 178
        }
      ]
    },
    {
      "cell_type": "markdown",
      "source": [
        "Datamızdaki bilgi eksik olan satırları filtreleyelim."
      ],
      "metadata": {
        "id": "V8VhLr5jUvFZ"
      }
    },
    {
      "cell_type": "code",
      "source": [
        "print('----------------------------------------------------------------')\n",
        "print('PROCESSING NECESSARY MODIFICATIONS ON DATA...')\n",
        "raw_train_data = df.loc[df['total_volume_cm3'] != 0.00]  # Select the data with total volume input\n",
        "raw_train_data = raw_train_data.loc[df['yurtici_deci'] != 0.0]          # Data with yurtici desi\n",
        "\n"
      ],
      "metadata": {
        "colab": {
          "base_uri": "https://localhost:8080/"
        },
        "id": "PxEn1gkoUSPk",
        "outputId": "f6ffe5e4-46db-4898-9179-280b39bc6074"
      },
      "execution_count": null,
      "outputs": [
        {
          "output_type": "stream",
          "name": "stdout",
          "text": [
            "----------------------------------------------------------------\n",
            "PROCESSING NECESSARY MODIFICATIONS ON DATA...\n"
          ]
        }
      ]
    },
    {
      "cell_type": "markdown",
      "source": [
        "# Aykırı değerleri atalım, train ve test data oluşturalım\n"
      ],
      "metadata": {
        "id": "EoS9b0IUU6Jo"
      }
    },
    {
      "cell_type": "markdown",
      "source": [
        "Tabii ki bu geçici bi çözüm, otonomlaştırılabilir."
      ],
      "metadata": {
        "id": "4dnlM3x0W00l"
      }
    },
    {
      "cell_type": "code",
      "source": [
        "raw_train_data = raw_train_data.drop(2)\n",
        "raw_train_data.drop('index', axis='columns')\n",
        "## Finally define train and test data\n",
        "\n",
        "test_data = raw_train_data['yurtici_deci'].copy()\n",
        "train_data = raw_train_data[['calculated_deci', 'total_weight_gr', 'total_volume_cm3']].copy()\n",
        "# train_data.fillna(0)\n"
      ],
      "metadata": {
        "id": "KIqjnJhPUSGF"
      },
      "execution_count": null,
      "outputs": []
    },
    {
      "cell_type": "markdown",
      "source": [
        "İhtiyaç olursa indexleri sıfırlamak için fonksiyon yazıp kullanabiliriz."
      ],
      "metadata": {
        "id": "mIxofLrEVG_i"
      }
    },
    {
      "cell_type": "code",
      "source": [
        "# print('----------------------------------------------------------------')\n",
        "# print('RESETTING INDEXES...')\n",
        "# ## Resetting index\n",
        "# def reset_dataframe_index(dataframe):\n",
        "#   dataframe = dataframe.reset_index()\n",
        "#   \n",
        "# reset_dataframe_index(train_data)\n",
        "# reset_dataframe_index(test_data)"
      ],
      "metadata": {
        "id": "PE7Gb26MEoVq"
      },
      "execution_count": null,
      "outputs": []
    },
    {
      "cell_type": "markdown",
      "source": [
        "Eğer tensorflow hazır modellerini kullanmasaydım, manuel makine öğrenimi algoritmalarını yazmak için satır ve kolon sayısına ihtiyacımız olabilirdi.\n"
      ],
      "metadata": {
        "id": "0heFvaxKVRJy"
      }
    },
    {
      "cell_type": "code",
      "source": [
        "## Counting rows and columns for creating tensor\n",
        "# row = len(train_data)\n",
        "# columns = train_data.count(axis='columns')[x] # X yerine herhangi bir mevcut satır numarası girilebilir.\n"
      ],
      "metadata": {
        "id": "e41sei8lBpWB",
        "colab": {
          "base_uri": "https://localhost:8080/"
        },
        "outputId": "ba2b5e24-a177-4516-d0f2-030384ce9dd0"
      },
      "execution_count": null,
      "outputs": [
        {
          "output_type": "execute_result",
          "data": {
            "text/plain": [
              "0      3\n",
              "1      3\n",
              "3      3\n",
              "4      3\n",
              "5      3\n",
              "      ..\n",
              "153    3\n",
              "154    3\n",
              "155    3\n",
              "156    3\n",
              "157    3\n",
              "Length: 157, dtype: int64"
            ]
          },
          "metadata": {},
          "execution_count": 12
        }
      ]
    },
    {
      "cell_type": "markdown",
      "source": [
        "# Veri düzenleme için pandas kütüphanesini kullandım, verimi tensor haline getirebilmek için önce array olması gerekiyor"
      ],
      "metadata": {
        "id": "oMtts89_V9nh"
      }
    },
    {
      "cell_type": "code",
      "source": [
        "from pandas.core.frame import DataFrame\n",
        "print('----------------------------------------------------------------')\n",
        "print('CONVERTING DATAFRAMES TO NUMPY ARRAYS...')\n",
        "## Converting my pandas dataframes to numpy arrays.\n",
        "\n",
        "def turn_numpy_arrays(dataframe):\n",
        "  try:\n",
        "    dataframe = dataframe.to_numpy()\n",
        "    return DataFrame\n",
        "  except AttributeError:\n",
        "    pass\n",
        "\n",
        "turn_numpy_arrays(train_data)\n",
        "turn_numpy_arrays(test_data)\n"
      ],
      "metadata": {
        "id": "vVAlNMX6Bhts",
        "colab": {
          "base_uri": "https://localhost:8080/"
        },
        "outputId": "e591b33a-c062-4b5f-e99b-c355849fa404"
      },
      "execution_count": null,
      "outputs": [
        {
          "output_type": "stream",
          "name": "stdout",
          "text": [
            "----------------------------------------------------------------\n",
            "CONVERTING DATAFRAMES TO NUMPY ARRAYS...\n"
          ]
        },
        {
          "output_type": "execute_result",
          "data": {
            "text/plain": [
              "pandas.core.frame.DataFrame"
            ]
          },
          "metadata": {},
          "execution_count": 182
        }
      ]
    },
    {
      "cell_type": "markdown",
      "source": [
        "#Son olarak arraylerimizi tensor haline getirelim."
      ],
      "metadata": {
        "id": "wP8bttP1HdJg"
      }
    },
    {
      "cell_type": "markdown",
      "source": [
        "Sinir ağı algoritmaları veriyi kabul etmek için 3 boyutlu tensor adı verilen data modelleri oluşturmamızı zorunlu tutar."
      ],
      "metadata": {
        "id": "SEUkyZV-Wazy"
      }
    },
    {
      "cell_type": "code",
      "source": [
        "print('----------------------------------------------------------------')\n",
        "print('CREATING TENSORS FOR FINAL VERSION...')\n",
        "def create_tensor(array):\n",
        "  array = tf.convert_to_tensor(array, dtype=tf.float32)\n",
        "\n",
        "create_tensor(train_data)\n",
        "create_tensor(test_data)\n"
      ],
      "metadata": {
        "id": "iWKTf6nIHiUP",
        "colab": {
          "base_uri": "https://localhost:8080/"
        },
        "outputId": "34b77d83-37ee-462c-9cd8-f284a7492ac7"
      },
      "execution_count": null,
      "outputs": [
        {
          "output_type": "stream",
          "name": "stdout",
          "text": [
            "----------------------------------------------------------------\n",
            "CREATING TENSORS FOR FINAL VERSION...\n"
          ]
        }
      ]
    },
    {
      "cell_type": "markdown",
      "source": [
        "## Temel bir sinir ağı modeli oluşturalım. Gerekli istatistik algoritmalarını belirleyelim.\n"
      ],
      "metadata": {
        "id": "SfAhNVm5Abvq"
      }
    },
    {
      "cell_type": "markdown",
      "source": [
        "Algoritmaların nasıl çalıştığına ve neden bunları seçtiğimin ayrıntısına girmeyeceğim. Sorularınız veya önerileriniz için linkedinden ulaşabilirsiniz."
      ],
      "metadata": {
        "id": "yxdeehqKXZbF"
      }
    },
    {
      "cell_type": "code",
      "source": [
        "print('----------------------------------------------------------------')\n",
        "print('----------------------------------------------------------------')\n",
        "print('CREATING BASELINE NEURAL NETWORK MODEL...')\n",
        "\n",
        "\n",
        "# Create model and add layers\n",
        "model = Sequential()\n",
        "  \n",
        "model.add(Dense(3, input_shape=(3,), kernel_initializer='normal',activation='relu'))\n",
        "model.add(Dense(20, input_shape=(3,), kernel_initializer='normal', activation='relu'))\n",
        "model.add(Dense(1))\n",
        "\n",
        "opt = RMSprop(learning_rate=0.0002)\n",
        "# Compile model\n",
        "model.compile(optimizer=opt, loss=\"mean_squared_error\")\n",
        "  \n",
        "  \n"
      ],
      "metadata": {
        "id": "a_kt5jNVAerW",
        "colab": {
          "base_uri": "https://localhost:8080/"
        },
        "outputId": "b2e2681d-a812-4ca7-8ded-c87d7d4dd989"
      },
      "execution_count": null,
      "outputs": [
        {
          "output_type": "stream",
          "name": "stdout",
          "text": [
            "----------------------------------------------------------------\n",
            "----------------------------------------------------------------\n",
            "CREATING BASELINE NEURAL NETWORK MODEL...\n"
          ]
        }
      ]
    },
    {
      "cell_type": "markdown",
      "source": [
        "## Modeli eğitmenin vakti geldi"
      ],
      "metadata": {
        "id": "kANDpHorOvNh"
      }
    },
    {
      "cell_type": "markdown",
      "source": [
        "Fit methodu ile elimdeki train ve test datasını modele verdim, verboseyi true haline getirdim ki sonucu görebilelim."
      ],
      "metadata": {
        "id": "cQYzO-yBX2Ge"
      }
    },
    {
      "cell_type": "markdown",
      "source": [
        "Normal şartlarda modelim böyle değil, train datamın satırları bu şekilde değil. Feature dediğimiz sinir ağı modelinin bakarak bağlantılar kuracağı, sonucu çıkarmak için kendinde gerekli değişikleri yapacağı özellikler bu şekilde değil"
      ],
      "metadata": {
        "id": "ZCv4Q8ZxYIHK"
      }
    },
    {
      "cell_type": "markdown",
      "source": [
        "Şirket içi sipariş bilgilerini burada yayınlamak şirket tarafından böyle bi istek olmasa da etik değerlerime uymadı. Uydurmaca bi data oluşturdum ama genel olarak ortalama bi neural network modelinin nasıl oluşturulduğunu artık biliyorsunuz. "
      ],
      "metadata": {
        "id": "Tkd5hskzYnqj"
      }
    },
    {
      "cell_type": "markdown",
      "source": [
        "Normal şartlarda yazdığım programda hangi üründen kaç tane sipariş edildiğinin verisini giriyorsunuz ve otomatik o ürünün en boy yüksekliğini veritabanından alıp sipariş sayısıyla çarpıyor. Sonra o değer sinir ağına girip paketlendikten sonraki tahmini değeri veriyor. "
      ],
      "metadata": {
        "id": "hWV4h2baZGv1"
      }
    },
    {
      "cell_type": "markdown",
      "source": [
        "Örnek olarak burada verdiğim data eksik hatalı ve model için uygun değil. Loss fonksiyon sonucunun bu kadar yüksek olmasının sebebi bu."
      ],
      "metadata": {
        "id": "K8L_SNH4ZgHG"
      }
    },
    {
      "cell_type": "code",
      "source": [
        "print('----------------------------------------------------------------')\n",
        "print('----------------------------------------------------------------')\n",
        "print('EVALUATING MODEL...')\n",
        "    \n",
        "history = model.fit(train_data, test_data, epochs=100, batch_size=4, verbose=1)\n",
        "\n",
        "\n",
        "\n",
        "scores = model.evaluate(train_data, test_data, verbose=1)\n",
        "    \n",
        "try:\n",
        "    print(\"%s: %.2f%%\" % (model.metrics_names[1], scores[1] * 100))\n",
        "except IndexError:\n",
        "    pass    \n"
      ],
      "metadata": {
        "id": "UstaFErYO1tU",
        "colab": {
          "base_uri": "https://localhost:8080/"
        },
        "outputId": "1c253b72-9cda-41dc-b27d-d867a6763358"
      },
      "execution_count": null,
      "outputs": [
        {
          "output_type": "stream",
          "name": "stdout",
          "text": [
            "----------------------------------------------------------------\n",
            "----------------------------------------------------------------\n",
            "EVALUATING MODEL...\n",
            "Epoch 1/100\n",
            "40/40 [==============================] - 1s 1ms/step - loss: 24422.8301\n",
            "Epoch 2/100\n",
            "40/40 [==============================] - 0s 2ms/step - loss: 23480.5742\n",
            "Epoch 3/100\n",
            "40/40 [==============================] - 0s 2ms/step - loss: 22769.5293\n",
            "Epoch 4/100\n",
            "40/40 [==============================] - 0s 2ms/step - loss: 21907.1406\n",
            "Epoch 5/100\n",
            "40/40 [==============================] - 0s 2ms/step - loss: 21262.2832\n",
            "Epoch 6/100\n",
            "40/40 [==============================] - 0s 2ms/step - loss: 20512.2578\n",
            "Epoch 7/100\n",
            "40/40 [==============================] - 0s 2ms/step - loss: 19599.2090\n",
            "Epoch 8/100\n",
            "40/40 [==============================] - 0s 2ms/step - loss: 18935.1367\n",
            "Epoch 9/100\n",
            "40/40 [==============================] - 0s 2ms/step - loss: 18374.5332\n",
            "Epoch 10/100\n",
            "40/40 [==============================] - 0s 2ms/step - loss: 17618.0879\n",
            "Epoch 11/100\n",
            "40/40 [==============================] - 0s 2ms/step - loss: 16807.4434\n",
            "Epoch 12/100\n",
            "40/40 [==============================] - 0s 1ms/step - loss: 16058.3184\n",
            "Epoch 13/100\n",
            "40/40 [==============================] - 0s 2ms/step - loss: 15471.0283\n",
            "Epoch 14/100\n",
            "40/40 [==============================] - 0s 1ms/step - loss: 14623.8135\n",
            "Epoch 15/100\n",
            "40/40 [==============================] - 0s 1ms/step - loss: 13946.5000\n",
            "Epoch 16/100\n",
            "40/40 [==============================] - 0s 1ms/step - loss: 13311.8213\n",
            "Epoch 17/100\n",
            "40/40 [==============================] - 0s 1ms/step - loss: 12666.5898\n",
            "Epoch 18/100\n",
            "40/40 [==============================] - 0s 2ms/step - loss: 11880.6621\n",
            "Epoch 19/100\n",
            "40/40 [==============================] - 0s 1ms/step - loss: 11315.0039\n",
            "Epoch 20/100\n",
            "40/40 [==============================] - 0s 1ms/step - loss: 10610.0850\n",
            "Epoch 21/100\n",
            "40/40 [==============================] - 0s 2ms/step - loss: 10129.9160\n",
            "Epoch 22/100\n",
            "40/40 [==============================] - 0s 2ms/step - loss: 9662.9082\n",
            "Epoch 23/100\n",
            "40/40 [==============================] - 0s 1ms/step - loss: 8986.4121\n",
            "Epoch 24/100\n",
            "40/40 [==============================] - 0s 1ms/step - loss: 8545.2402\n",
            "Epoch 25/100\n",
            "40/40 [==============================] - 0s 2ms/step - loss: 7958.8550\n",
            "Epoch 26/100\n",
            "40/40 [==============================] - 0s 2ms/step - loss: 7585.6216\n",
            "Epoch 27/100\n",
            "40/40 [==============================] - 0s 2ms/step - loss: 7202.6133\n",
            "Epoch 28/100\n",
            "40/40 [==============================] - 0s 1ms/step - loss: 6767.4043\n",
            "Epoch 29/100\n",
            "40/40 [==============================] - 0s 2ms/step - loss: 6109.7026\n",
            "Epoch 30/100\n",
            "40/40 [==============================] - 0s 1ms/step - loss: 5733.6255\n",
            "Epoch 31/100\n",
            "40/40 [==============================] - 0s 2ms/step - loss: 5501.9590\n",
            "Epoch 32/100\n",
            "40/40 [==============================] - 0s 2ms/step - loss: 5191.5928\n",
            "Epoch 33/100\n",
            "40/40 [==============================] - 0s 2ms/step - loss: 4760.0459\n",
            "Epoch 34/100\n",
            "40/40 [==============================] - 0s 1ms/step - loss: 4446.7759\n",
            "Epoch 35/100\n",
            "40/40 [==============================] - 0s 2ms/step - loss: 4257.5439\n",
            "Epoch 36/100\n",
            "40/40 [==============================] - 0s 2ms/step - loss: 4112.6821\n",
            "Epoch 37/100\n",
            "40/40 [==============================] - 0s 2ms/step - loss: 3816.0342\n",
            "Epoch 38/100\n",
            "40/40 [==============================] - 0s 1ms/step - loss: 3686.3865\n",
            "Epoch 39/100\n",
            "40/40 [==============================] - 0s 2ms/step - loss: 3514.3474\n",
            "Epoch 40/100\n",
            "40/40 [==============================] - 0s 1ms/step - loss: 3420.9683\n",
            "Epoch 41/100\n",
            "40/40 [==============================] - 0s 1ms/step - loss: 3279.4736\n",
            "Epoch 42/100\n",
            "40/40 [==============================] - 0s 1ms/step - loss: 3205.9919\n",
            "Epoch 43/100\n",
            "40/40 [==============================] - 0s 2ms/step - loss: 3114.9282\n",
            "Epoch 44/100\n",
            "40/40 [==============================] - 0s 1ms/step - loss: 3016.3313\n",
            "Epoch 45/100\n",
            "40/40 [==============================] - 0s 1ms/step - loss: 2935.5007\n",
            "Epoch 46/100\n",
            "40/40 [==============================] - 0s 1ms/step - loss: 2882.3135\n",
            "Epoch 47/100\n",
            "40/40 [==============================] - 0s 2ms/step - loss: 2851.2209\n",
            "Epoch 48/100\n",
            "40/40 [==============================] - 0s 1ms/step - loss: 2834.4158\n",
            "Epoch 49/100\n",
            "40/40 [==============================] - 0s 1ms/step - loss: 2796.0012\n",
            "Epoch 50/100\n",
            "40/40 [==============================] - 0s 1ms/step - loss: 2770.1758\n",
            "Epoch 51/100\n",
            "40/40 [==============================] - 0s 2ms/step - loss: 2754.6013\n",
            "Epoch 52/100\n",
            "40/40 [==============================] - 0s 2ms/step - loss: 2736.1941\n",
            "Epoch 53/100\n",
            "40/40 [==============================] - 0s 1ms/step - loss: 2707.8335\n",
            "Epoch 54/100\n",
            "40/40 [==============================] - 0s 1ms/step - loss: 2693.4172\n",
            "Epoch 55/100\n",
            "40/40 [==============================] - 0s 1ms/step - loss: 2657.8225\n",
            "Epoch 56/100\n",
            "40/40 [==============================] - 0s 1ms/step - loss: 2644.5095\n",
            "Epoch 57/100\n",
            "40/40 [==============================] - 0s 2ms/step - loss: 2618.9116\n",
            "Epoch 58/100\n",
            "40/40 [==============================] - 0s 1ms/step - loss: 2618.7915\n",
            "Epoch 59/100\n",
            "40/40 [==============================] - 0s 2ms/step - loss: 2597.8599\n",
            "Epoch 60/100\n",
            "40/40 [==============================] - 0s 2ms/step - loss: 2606.8940\n",
            "Epoch 61/100\n",
            "40/40 [==============================] - 0s 1ms/step - loss: 2594.1558\n",
            "Epoch 62/100\n",
            "40/40 [==============================] - 0s 2ms/step - loss: 2584.9951\n",
            "Epoch 63/100\n",
            "40/40 [==============================] - 0s 2ms/step - loss: 2574.6331\n",
            "Epoch 64/100\n",
            "40/40 [==============================] - 0s 1ms/step - loss: 2540.4319\n",
            "Epoch 65/100\n",
            "40/40 [==============================] - 0s 1ms/step - loss: 2525.6030\n",
            "Epoch 66/100\n",
            "40/40 [==============================] - 0s 2ms/step - loss: 2507.9985\n",
            "Epoch 67/100\n",
            "40/40 [==============================] - 0s 2ms/step - loss: 2534.0432\n",
            "Epoch 68/100\n",
            "40/40 [==============================] - 0s 2ms/step - loss: 2513.0200\n",
            "Epoch 69/100\n",
            "40/40 [==============================] - 0s 1ms/step - loss: 2504.3564\n",
            "Epoch 70/100\n",
            "40/40 [==============================] - 0s 1ms/step - loss: 2511.5613\n",
            "Epoch 71/100\n",
            "40/40 [==============================] - 0s 2ms/step - loss: 2486.7429\n",
            "Epoch 72/100\n",
            "40/40 [==============================] - 0s 2ms/step - loss: 2497.3059\n",
            "Epoch 73/100\n",
            "40/40 [==============================] - 0s 2ms/step - loss: 2488.0752\n",
            "Epoch 74/100\n",
            "40/40 [==============================] - 0s 2ms/step - loss: 2468.0964\n",
            "Epoch 75/100\n",
            "40/40 [==============================] - 0s 2ms/step - loss: 2472.1267\n",
            "Epoch 76/100\n",
            "40/40 [==============================] - 0s 1ms/step - loss: 2474.0078\n",
            "Epoch 77/100\n",
            "40/40 [==============================] - 0s 2ms/step - loss: 2496.6384\n",
            "Epoch 78/100\n",
            "40/40 [==============================] - 0s 1ms/step - loss: 2480.4519\n",
            "Epoch 79/100\n",
            "40/40 [==============================] - 0s 2ms/step - loss: 2468.2927\n",
            "Epoch 80/100\n",
            "40/40 [==============================] - 0s 2ms/step - loss: 2490.1833\n",
            "Epoch 81/100\n",
            "40/40 [==============================] - 0s 2ms/step - loss: 2470.3848\n",
            "Epoch 82/100\n",
            "40/40 [==============================] - 0s 1ms/step - loss: 2520.7781\n",
            "Epoch 83/100\n",
            "40/40 [==============================] - 0s 1ms/step - loss: 2503.6816\n",
            "Epoch 84/100\n",
            "40/40 [==============================] - 0s 1ms/step - loss: 2499.6555\n",
            "Epoch 85/100\n",
            "40/40 [==============================] - 0s 1ms/step - loss: 2486.5132\n",
            "Epoch 86/100\n",
            "40/40 [==============================] - 0s 1ms/step - loss: 2483.0513\n",
            "Epoch 87/100\n",
            "40/40 [==============================] - 0s 1ms/step - loss: 2487.4102\n",
            "Epoch 88/100\n",
            "40/40 [==============================] - 0s 2ms/step - loss: 2482.2451\n",
            "Epoch 89/100\n",
            "40/40 [==============================] - 0s 2ms/step - loss: 2476.2607\n",
            "Epoch 90/100\n",
            "40/40 [==============================] - 0s 2ms/step - loss: 2541.6687\n",
            "Epoch 91/100\n",
            "40/40 [==============================] - 0s 2ms/step - loss: 2505.2151\n",
            "Epoch 92/100\n",
            "40/40 [==============================] - 0s 2ms/step - loss: 2497.7107\n",
            "Epoch 93/100\n",
            "40/40 [==============================] - 0s 2ms/step - loss: 2510.7810\n",
            "Epoch 94/100\n",
            "40/40 [==============================] - 0s 1ms/step - loss: 2483.2063\n",
            "Epoch 95/100\n",
            "40/40 [==============================] - 0s 2ms/step - loss: 2470.3450\n",
            "Epoch 96/100\n",
            "40/40 [==============================] - 0s 2ms/step - loss: 2458.5242\n",
            "Epoch 97/100\n",
            "40/40 [==============================] - 0s 2ms/step - loss: 2498.4844\n",
            "Epoch 98/100\n",
            "40/40 [==============================] - 0s 2ms/step - loss: 2491.4080\n",
            "Epoch 99/100\n",
            "40/40 [==============================] - 0s 2ms/step - loss: 2471.6978\n",
            "Epoch 100/100\n",
            "40/40 [==============================] - 0s 1ms/step - loss: 2490.0261\n",
            "5/5 [==============================] - 0s 2ms/step - loss: 2465.3982\n"
          ]
        }
      ]
    },
    {
      "cell_type": "code",
      "source": [
        "print(history.history.keys())"
      ],
      "metadata": {
        "id": "OuXGw6OD-Dfa",
        "colab": {
          "base_uri": "https://localhost:8080/"
        },
        "outputId": "4fffb6c2-7bf4-4ed9-8b5f-6098a6472583"
      },
      "execution_count": null,
      "outputs": [
        {
          "output_type": "stream",
          "name": "stdout",
          "text": [
            "dict_keys(['loss'])\n"
          ]
        }
      ]
    },
    {
      "cell_type": "markdown",
      "source": [
        "## Her bir adımın geçmişini görselleştirerek modelinizi doğru eğitip eğitmediğinize dair çıkarımlar yapabilirsiniz."
      ],
      "metadata": {
        "id": "CILXmKH--nsx"
      }
    },
    {
      "cell_type": "code",
      "source": [
        "\n",
        "def plot_history(history, key):\n",
        "    plt.plot(history.history['loss'])\n",
        "    \n",
        "    plt.title('model loss')\n",
        "    plt.ylabel('loss')\n",
        "    plt.xlabel('epoch')\n",
        "    plt.legend(['train', 'test'], loc='upper left')\n",
        "    plt.show()\n",
        "  \n",
        "  \n",
        "  \n",
        "# Plot the history\n",
        "plot_history(history, 'mean_absolute_percentage_error')"
      ],
      "metadata": {
        "id": "I9OYbTNj6hmC",
        "colab": {
          "base_uri": "https://localhost:8080/",
          "height": 295
        },
        "outputId": "bc063470-f4e9-4ff4-94b6-6f07c4252cbc"
      },
      "execution_count": null,
      "outputs": [
        {
          "output_type": "display_data",
          "data": {
            "text/plain": [
              "<Figure size 432x288 with 1 Axes>"
            ],
            "image/png": "[encoded data removed]"
          },
          "metadata": {
            "needs_background": "light"
          }
        }
      ]
    },
    {
      "cell_type": "markdown",
      "source": [
        "## Her tahmin için tekrardan modeli eğitmenize gerek yok. Eğitilmiş parametreleri ve modeli kaydedip tekrar eğitmeden tahminde bulundurabilirsiniz."
      ],
      "metadata": {
        "id": "PsUqxSFEIixI"
      }
    },
    {
      "cell_type": "markdown",
      "source": [
        "Oluşturulan modeli JSON dosyası olarak kaydetme."
      ],
      "metadata": {
        "id": "P3ke302iJecn"
      }
    },
    {
      "cell_type": "code",
      "source": [
        "def save_model_as_json(model_input):\n",
        "    \"\"\"Saves model named object in the script to default location. You can change that if you want.\"\"\"\n",
        "    model_json = model_input.to_json()\n",
        "    with open(\"model.json\", \"w\") as json_file:\n",
        "        json_file.write(model_json)\n",
        "\n",
        "save_model_as_json(model)\n"
      ],
      "metadata": {
        "id": "4Uv0E5AoF51T"
      },
      "execution_count": null,
      "outputs": []
    },
    {
      "cell_type": "markdown",
      "source": [
        "Eğitilmiş modelin parametrelerini H5 dosyası olarak kaydetme."
      ],
      "metadata": {
        "id": "32wt7r68lmAu"
      }
    },
    {
      "cell_type": "code",
      "source": [
        "def save_weights_as_h5(model_input):\n",
        "    \"\"\"Saves network's weights(inputs) to default location as .h5 file. \"\"\"\n",
        "    model_input.save_weights(\"model.h5\")\n",
        "    print(\"Saved model to disk.\")\n",
        "\n",
        "save_weights_as_h5(model)"
      ],
      "metadata": {
        "id": "y5x2-lVUlqoU",
        "colab": {
          "base_uri": "https://localhost:8080/"
        },
        "outputId": "68e36dd7-a81c-488b-d346-98c5f6ed80d4"
      },
      "execution_count": null,
      "outputs": [
        {
          "output_type": "stream",
          "name": "stdout",
          "text": [
            "Saved model to disk.\n"
          ]
        }
      ]
    },
    {
      "cell_type": "markdown",
      "source": [
        "## Tekrar kullanım için modeli kaydedilen patikadan geri yükleme."
      ],
      "metadata": {
        "id": "zzMWtXHXcrOK"
      }
    },
    {
      "cell_type": "code",
      "source": [
        "def load_neural_network_model_from_path(json_file_path):\n",
        "    \"\"\"Loads neural network and weights from the given file paths \"\"\"\n",
        "\n",
        "    json_file = open(json_file_path, \"r\")\n",
        "    loaded_model_json = json_file.read()\n",
        "    json_file.close()\n",
        "    loaded_model = model_from_json(loaded_model_json)\n",
        "\n",
        "    print(\"Loaded model from disk.\")\n",
        "    return loaded_model"
      ],
      "metadata": {
        "id": "daYTUXfGFzsN"
      },
      "execution_count": null,
      "outputs": []
    },
    {
      "cell_type": "markdown",
      "source": [
        "## Düz modelin üstüne önceden eğitilmiş parametreleri yükleme."
      ],
      "metadata": {
        "id": "N9saJ855c_xj"
      }
    },
    {
      "cell_type": "code",
      "source": [
        "def load_h5_weights_file_to_model(model, h5_path):\n",
        "    \"\"\"Returns model with weights from given path.\"\"\"\n",
        "    model.load_weights(h5_path)\n",
        "    print(\"Loaded weights from disk.\")\n",
        "    return model"
      ],
      "metadata": {
        "id": "c1Vw1zdCdKgQ"
      },
      "execution_count": null,
      "outputs": []
    },
    {
      "cell_type": "markdown",
      "source": [
        "## Eğitilmiş model üzerinde tahminler yapabilirsiniz. Son kullanıcıyı ilgilendiren kısım burasıdır genelde. Siz ona elinizdeki verileri verirsiniz, o eğittiği hipoteze göre tahminde bulunur."
      ],
      "metadata": {
        "id": "HwnYpOT1IfJR"
      }
    },
    {
      "cell_type": "code",
      "source": [
        "def predict_model(model, calculated_deci, total_volume_cm3, total_weight_gram):\n",
        "    numpy_obj = np.array([calculated_deci, total_volume_cm3, total_weight_gram], ndmin=2)\n",
        "    # numpy_obj = tf.convert_to_tensor(numpy_obj, dtype=tf.float32)\n",
        "    # prediction = np.argmax(my_model.predict(numpy_obj), axis=-1)\n",
        "    prediction = model.predict(numpy_obj)\n",
        "    print(prediction)\n",
        "\n",
        "predict_model(model, 2.622, 1090.0, 7866.000)"
      ],
      "metadata": {
        "id": "Ct_WdHz5Ieh5",
        "colab": {
          "base_uri": "https://localhost:8080/"
        },
        "outputId": "9fa50cfe-d301-46e1-f395-84c000b8e357"
      },
      "execution_count": null,
      "outputs": [
        {
          "output_type": "stream",
          "name": "stdout",
          "text": [
            "[[3.8347352]]\n"
          ]
        }
      ]
    },
    {
      "cell_type": "code",
      "source": [
        ""
      ],
      "metadata": {
        "id": "wvTxMVggh7Jn"
      },
      "execution_count": null,
      "outputs": []
    }
  ]
}